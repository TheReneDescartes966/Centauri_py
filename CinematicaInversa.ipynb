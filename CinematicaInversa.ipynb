{
  "nbformat": 4,
  "nbformat_minor": 0,
  "metadata": {
    "colab": {
      "provenance": [],
      "include_colab_link": true
    },
    "kernelspec": {
      "name": "python3",
      "display_name": "Python 3"
    },
    "language_info": {
      "name": "python"
    }
  },
  "cells": [
    {
      "cell_type": "markdown",
      "metadata": {
        "id": "view-in-github",
        "colab_type": "text"
      },
      "source": [
        "<a href=\"https://colab.research.google.com/github/TheReneDescartes966/Centauri_py/blob/main/CinematicaInversa.ipynb\" target=\"_parent\"><img src=\"https://colab.research.google.com/assets/colab-badge.svg\" alt=\"Open In Colab\"/></a>"
      ]
    },
    {
      "cell_type": "code",
      "execution_count": null,
      "metadata": {
        "id": "l8g-av947OTd"
      },
      "outputs": [],
      "source": [
        "from sympy import *"
      ]
    },
    {
      "cell_type": "code",
      "source": [
        "#Aquí lo que hace es básicamente poner la tabla de parámetros de DH, se pone ai-1 en a, alphai-1 en alpha, di en d y thetai en theta, cuando sean 4 o más solo el agregar\n",
        "theta = [Symbol('q_1'),Symbol('q_2'),Symbol('q_3'),Symbol('q_4')]\n",
        "alpha = [0,-(pi/2),0,0]\n",
        "d = [0,0,0,0]\n",
        "a = [0,0,Symbol('L_1'),Symbol('L_2')]"
      ],
      "metadata": {
        "id": "l0UwSSCl9rFX"
      },
      "execution_count": null,
      "outputs": []
    },
    {
      "cell_type": "code",
      "source": [
        "T = [] # ESTO ES PARA CALCULAR EN CASO DE QUE ME DEN LAS MATRICES DE TRANSFORMACION\n",
        "\n",
        "T.append(Matrix([[1,0,0,0],[0,1,0,0],[0,0,1,Symbol('d_1')],[0,0,0,1]]))\n",
        "T.append(Matrix([[cos(Symbol('q_2')),-1*(sin(Symbol('q_2'))),0,0],[sin(Symbol('q_2')),cos(Symbol('q_2')),0,0],[0,0,1,0],[0,0,0,1]]))\n",
        "T.append(Matrix([[cos(Symbol('q_3')),-1*(sin(Symbol('q_3'))),0,Symbol('L_1')],[sin(Symbol('q_3')),cos(Symbol('q_3')),0,0],[0,0,1,0],[0,0,0,1]]))\n",
        "display(T[1])\n"
      ],
      "metadata": {
        "colab": {
          "base_uri": "https://localhost:8080/",
          "height": 98
        },
        "id": "6VR63z1FvsER",
        "outputId": "0f0b605b-d0fb-4c64-8cec-3e2828932af3"
      },
      "execution_count": null,
      "outputs": [
        {
          "output_type": "display_data",
          "data": {
            "text/plain": [
              "Matrix([\n",
              "[cos(q_2), -sin(q_2), 0, 0],\n",
              "[sin(q_2),  cos(q_2), 0, 0],\n",
              "[       0,         0, 1, 0],\n",
              "[       0,         0, 0, 1]])"
            ],
            "text/latex": "$\\displaystyle \\left[\\begin{matrix}\\cos{\\left(q_{2} \\right)} & - \\sin{\\left(q_{2} \\right)} & 0 & 0\\\\\\sin{\\left(q_{2} \\right)} & \\cos{\\left(q_{2} \\right)} & 0 & 0\\\\0 & 0 & 1 & 0\\\\0 & 0 & 0 & 1\\end{matrix}\\right]$"
          },
          "metadata": {}
        }
      ]
    },
    {
      "cell_type": "code",
      "source": [
        "\n",
        "simplify(T[1].inv()*T[0].inv())"
      ],
      "metadata": {
        "colab": {
          "base_uri": "https://localhost:8080/",
          "height": 98
        },
        "id": "8HZg1jofrOGl",
        "outputId": "588c89f8-caa9-4bfe-bc2c-ea7306c5e99a"
      },
      "execution_count": null,
      "outputs": [
        {
          "output_type": "execute_result",
          "data": {
            "text/plain": [
              "Matrix([\n",
              "[ cos(q_2), sin(q_2), 0,    0],\n",
              "[-sin(q_2), cos(q_2), 0,    0],\n",
              "[        0,        0, 1, -d_1],\n",
              "[        0,        0, 0,    1]])"
            ],
            "text/latex": "$\\displaystyle \\left[\\begin{matrix}\\cos{\\left(q_{2} \\right)} & \\sin{\\left(q_{2} \\right)} & 0 & 0\\\\- \\sin{\\left(q_{2} \\right)} & \\cos{\\left(q_{2} \\right)} & 0 & 0\\\\0 & 0 & 1 & - d_{1}\\\\0 & 0 & 0 & 1\\end{matrix}\\right]$"
          },
          "metadata": {},
          "execution_count": 50
        }
      ]
    },
    {
      "cell_type": "code",
      "source": [
        "simplify(T[0]*T[1]*T[2]) #HASTA AQUI"
      ],
      "metadata": {
        "colab": {
          "base_uri": "https://localhost:8080/",
          "height": 98
        },
        "id": "tasRgKKKwigj",
        "outputId": "1505c725-0f8e-4fcc-8688-62eb1c57cc25"
      },
      "execution_count": null,
      "outputs": [
        {
          "output_type": "execute_result",
          "data": {
            "text/plain": [
              "Matrix([\n",
              "[cos(q_2 + q_3), -sin(q_2 + q_3), 0, L_1*cos(q_2)],\n",
              "[sin(q_2 + q_3),  cos(q_2 + q_3), 0, L_1*sin(q_2)],\n",
              "[             0,               0, 1,          d_1],\n",
              "[             0,               0, 0,            1]])"
            ],
            "text/latex": "$\\displaystyle \\left[\\begin{matrix}\\cos{\\left(q_{2} + q_{3} \\right)} & - \\sin{\\left(q_{2} + q_{3} \\right)} & 0 & L_{1} \\cos{\\left(q_{2} \\right)}\\\\\\sin{\\left(q_{2} + q_{3} \\right)} & \\cos{\\left(q_{2} + q_{3} \\right)} & 0 & L_{1} \\sin{\\left(q_{2} \\right)}\\\\0 & 0 & 1 & d_{1}\\\\0 & 0 & 0 & 1\\end{matrix}\\right]$"
          },
          "metadata": {},
          "execution_count": 51
        }
      ]
    },
    {
      "cell_type": "code",
      "source": [
        "T = [] #Creamos T dónde se van a guardar nuestra multiplicación de matrices, el rango va de acuerdo a cuántos grados de libertad y siempre va desde 0 (0, gradoslibertad)\n",
        "for i in range(0,4):\n",
        "  T.append(Matrix([[cos(theta[i]),-sin(theta[i]),0,a[i]],\n",
        "                   [sin(theta[i])*cos(alpha[i]),cos(theta[i])*cos(alpha[i]),-sin(alpha[i]),-sin(alpha[i])*d[i]],\n",
        "                   [sin(theta[i])*sin(alpha[i]),cos(theta[i])*sin(alpha[i]),cos(alpha[i]),cos(alpha[i])*d[i]],\n",
        "                   [0,0,0,1]]))"
      ],
      "metadata": {
        "id": "VJNhJKZV-BKS"
      },
      "execution_count": null,
      "outputs": []
    },
    {
      "cell_type": "code",
      "source": [
        "T04 = T[0]*T[1]*T[2]*T[3] #T[0] sería 1 con respecto a 0, T[1] sería 2 con respecto a 1 y finalmente T[2] sería 3 con respecto a 2"
      ],
      "metadata": {
        "id": "DqMeNskB_Esc"
      },
      "execution_count": null,
      "outputs": []
    },
    {
      "cell_type": "code",
      "source": [
        "T24= T[2]*T[3]\n",
        "simplify(T24)"
      ],
      "metadata": {
        "colab": {
          "base_uri": "https://localhost:8080/",
          "height": 99
        },
        "id": "cuxXEevGM6AL",
        "outputId": "adda3726-ba86-4d77-cf65-c3c4a24f1448"
      },
      "execution_count": null,
      "outputs": [
        {
          "output_type": "execute_result",
          "data": {
            "text/plain": [
              "Matrix([\n",
              "[cos(q_3 + q_4), -sin(q_3 + q_4), 0, L_1 + L_2*cos(q_3)],\n",
              "[sin(q_3 + q_4),  cos(q_3 + q_4), 0,       L_2*sin(q_3)],\n",
              "[             0,               0, 1,                  0],\n",
              "[             0,               0, 0,                  1]])"
            ],
            "text/latex": "$\\displaystyle \\left[\\begin{matrix}\\cos{\\left(q_{3} + q_{4} \\right)} & - \\sin{\\left(q_{3} + q_{4} \\right)} & 0 & L_{1} + L_{2} \\cos{\\left(q_{3} \\right)}\\\\\\sin{\\left(q_{3} + q_{4} \\right)} & \\cos{\\left(q_{3} + q_{4} \\right)} & 0 & L_{2} \\sin{\\left(q_{3} \\right)}\\\\0 & 0 & 1 & 0\\\\0 & 0 & 0 & 1\\end{matrix}\\right]$"
          },
          "metadata": {},
          "execution_count": 6
        }
      ]
    },
    {
      "cell_type": "code",
      "source": [
        "simplify(T04)#Para que quede en términos entendibles SIEMPRE simplify"
      ],
      "metadata": {
        "colab": {
          "base_uri": "https://localhost:8080/",
          "height": 99
        },
        "id": "2GS5j7FI_i8S",
        "outputId": "70562a8e-f7b8-4f3d-fb2d-02f46a2b874f"
      },
      "execution_count": null,
      "outputs": [
        {
          "output_type": "execute_result",
          "data": {
            "text/plain": [
              "Matrix([\n",
              "[cos(q_1)*cos(q_2 + q_3 + q_4), -sin(q_2 + q_3 + q_4)*cos(q_1), -sin(q_1), (L_1*cos(q_2) + L_2*cos(q_2 + q_3))*cos(q_1)],\n",
              "[sin(q_1)*cos(q_2 + q_3 + q_4), -sin(q_1)*sin(q_2 + q_3 + q_4),  cos(q_1), (L_1*cos(q_2) + L_2*cos(q_2 + q_3))*sin(q_1)],\n",
              "[        -sin(q_2 + q_3 + q_4),          -cos(q_2 + q_3 + q_4),         0,           -L_1*sin(q_2) - L_2*sin(q_2 + q_3)],\n",
              "[                            0,                              0,         0,                                            1]])"
            ],
            "text/latex": "$\\displaystyle \\left[\\begin{matrix}\\cos{\\left(q_{1} \\right)} \\cos{\\left(q_{2} + q_{3} + q_{4} \\right)} & - \\sin{\\left(q_{2} + q_{3} + q_{4} \\right)} \\cos{\\left(q_{1} \\right)} & - \\sin{\\left(q_{1} \\right)} & \\left(L_{1} \\cos{\\left(q_{2} \\right)} + L_{2} \\cos{\\left(q_{2} + q_{3} \\right)}\\right) \\cos{\\left(q_{1} \\right)}\\\\\\sin{\\left(q_{1} \\right)} \\cos{\\left(q_{2} + q_{3} + q_{4} \\right)} & - \\sin{\\left(q_{1} \\right)} \\sin{\\left(q_{2} + q_{3} + q_{4} \\right)} & \\cos{\\left(q_{1} \\right)} & \\left(L_{1} \\cos{\\left(q_{2} \\right)} + L_{2} \\cos{\\left(q_{2} + q_{3} \\right)}\\right) \\sin{\\left(q_{1} \\right)}\\\\- \\sin{\\left(q_{2} + q_{3} + q_{4} \\right)} & - \\cos{\\left(q_{2} + q_{3} + q_{4} \\right)} & 0 & - L_{1} \\sin{\\left(q_{2} \\right)} - L_{2} \\sin{\\left(q_{2} + q_{3} \\right)}\\\\0 & 0 & 0 & 1\\end{matrix}\\right]$"
          },
          "metadata": {},
          "execution_count": 7
        }
      ]
    },
    {
      "cell_type": "code",
      "source": [
        "simplify(T[1].inv()*T[0].inv())#Simplifique la matriz inversa de 1 respecto a 0"
      ],
      "metadata": {
        "colab": {
          "base_uri": "https://localhost:8080/",
          "height": 98
        },
        "id": "k8KomGPk_oiK",
        "outputId": "7e783093-2988-4be6-cc0f-e5184c9c952d"
      },
      "execution_count": null,
      "outputs": [
        {
          "output_type": "execute_result",
          "data": {
            "text/plain": [
              "Matrix([\n",
              "[ cos(q_1)*cos(q_2),  sin(q_1)*cos(q_2), -sin(q_2), 0],\n",
              "[-sin(q_2)*cos(q_1), -sin(q_1)*sin(q_2), -cos(q_2), 0],\n",
              "[         -sin(q_1),           cos(q_1),         0, 0],\n",
              "[                 0,                  0,         0, 1]])"
            ],
            "text/latex": "$\\displaystyle \\left[\\begin{matrix}\\cos{\\left(q_{1} \\right)} \\cos{\\left(q_{2} \\right)} & \\sin{\\left(q_{1} \\right)} \\cos{\\left(q_{2} \\right)} & - \\sin{\\left(q_{2} \\right)} & 0\\\\- \\sin{\\left(q_{2} \\right)} \\cos{\\left(q_{1} \\right)} & - \\sin{\\left(q_{1} \\right)} \\sin{\\left(q_{2} \\right)} & - \\cos{\\left(q_{2} \\right)} & 0\\\\- \\sin{\\left(q_{1} \\right)} & \\cos{\\left(q_{1} \\right)} & 0 & 0\\\\0 & 0 & 0 & 1\\end{matrix}\\right]$"
          },
          "metadata": {},
          "execution_count": 80
        }
      ]
    },
    {
      "cell_type": "code",
      "source": [
        "T14=T[2]*T[3]#Multiplicación de 2 con respecto a 1 y de 3 con respecto a 2\n",
        "simplify(T14)#Simplificar la anterior matriz, hasta aquí para hallar inversa de 1 con respecto a 0 * TI(Conocida) = 3 con respecto a 1, primer punto, hallar q1"
      ],
      "metadata": {
        "colab": {
          "base_uri": "https://localhost:8080/",
          "height": 98
        },
        "id": "1xApwrahBNyL",
        "outputId": "cdf0bdac-5420-4e20-97d6-db7c2d7db7bf"
      },
      "execution_count": null,
      "outputs": [
        {
          "output_type": "execute_result",
          "data": {
            "text/plain": [
              "Matrix([\n",
              "[cos(q_3 + q_4), -sin(q_3 + q_4), 0, L_1 + L_2*cos(q_3)],\n",
              "[sin(q_3 + q_4),  cos(q_3 + q_4), 0,       L_2*sin(q_3)],\n",
              "[             0,               0, 1,                  0],\n",
              "[             0,               0, 0,                  1]])"
            ],
            "text/latex": "$\\displaystyle \\left[\\begin{matrix}\\cos{\\left(q_{3} + q_{4} \\right)} & - \\sin{\\left(q_{3} + q_{4} \\right)} & 0 & L_{1} + L_{2} \\cos{\\left(q_{3} \\right)}\\\\\\sin{\\left(q_{3} + q_{4} \\right)} & \\cos{\\left(q_{3} + q_{4} \\right)} & 0 & L_{2} \\sin{\\left(q_{3} \\right)}\\\\0 & 0 & 1 & 0\\\\0 & 0 & 0 & 1\\end{matrix}\\right]$"
          },
          "metadata": {},
          "execution_count": 84
        }
      ]
    },
    {
      "cell_type": "code",
      "source": [
        "display(simplify(T[1].inv()))#Ahora para encontrar q2, encontramos la inversa de 2 con respecto a 1\n",
        "simplify(T[1].inv()*T[0].inv())#Ahora encontramos la multiplicación de las 2 inversas\n"
      ],
      "metadata": {
        "colab": {
          "base_uri": "https://localhost:8080/",
          "height": 180
        },
        "id": "0t6yD7urFkst",
        "outputId": "e6b0ea25-50a3-4aad-fa22-d5af4ebd1bad"
      },
      "execution_count": null,
      "outputs": [
        {
          "output_type": "display_data",
          "data": {
            "text/plain": [
              "Matrix([\n",
              "[ cos(q_2), 0, -sin(q_2), 0],\n",
              "[-sin(q_2), 0, -cos(q_2), 0],\n",
              "[        0, 1,         0, 0],\n",
              "[        0, 0,         0, 1]])"
            ],
            "text/latex": "$\\displaystyle \\left[\\begin{matrix}\\cos{\\left(q_{2} \\right)} & 0 & - \\sin{\\left(q_{2} \\right)} & 0\\\\- \\sin{\\left(q_{2} \\right)} & 0 & - \\cos{\\left(q_{2} \\right)} & 0\\\\0 & 1 & 0 & 0\\\\0 & 0 & 0 & 1\\end{matrix}\\right]$"
          },
          "metadata": {}
        },
        {
          "output_type": "execute_result",
          "data": {
            "text/plain": [
              "Matrix([\n",
              "[ cos(q_1)*cos(q_2),  sin(q_1)*cos(q_2), -sin(q_2), 0],\n",
              "[-sin(q_2)*cos(q_1), -sin(q_1)*sin(q_2), -cos(q_2), 0],\n",
              "[         -sin(q_1),           cos(q_1),         0, 0],\n",
              "[                 0,                  0,         0, 1]])"
            ],
            "text/latex": "$\\displaystyle \\left[\\begin{matrix}\\cos{\\left(q_{1} \\right)} \\cos{\\left(q_{2} \\right)} & \\sin{\\left(q_{1} \\right)} \\cos{\\left(q_{2} \\right)} & - \\sin{\\left(q_{2} \\right)} & 0\\\\- \\sin{\\left(q_{2} \\right)} \\cos{\\left(q_{1} \\right)} & - \\sin{\\left(q_{1} \\right)} \\sin{\\left(q_{2} \\right)} & - \\cos{\\left(q_{2} \\right)} & 0\\\\- \\sin{\\left(q_{1} \\right)} & \\cos{\\left(q_{1} \\right)} & 0 & 0\\\\0 & 0 & 0 & 1\\end{matrix}\\right]$"
          },
          "metadata": {},
          "execution_count": 85
        }
      ]
    },
    {
      "cell_type": "code",
      "source": [
        "simplify(T[0].inv()"
      ],
      "metadata": {
        "colab": {
          "base_uri": "https://localhost:8080/",
          "height": 98
        },
        "id": "iy0uQVqqMebE",
        "outputId": "efbde21c-3f4a-4aae-be55-5f4db28bed89"
      },
      "execution_count": null,
      "outputs": [
        {
          "output_type": "execute_result",
          "data": {
            "text/plain": [
              "Matrix([\n",
              "[ cos(q_1), sin(q_1), 0, 0],\n",
              "[-sin(q_1), cos(q_1), 0, 0],\n",
              "[        0,        0, 1, 0],\n",
              "[        0,        0, 0, 1]])"
            ],
            "text/latex": "$\\displaystyle \\left[\\begin{matrix}\\cos{\\left(q_{1} \\right)} & \\sin{\\left(q_{1} \\right)} & 0 & 0\\\\- \\sin{\\left(q_{1} \\right)} & \\cos{\\left(q_{1} \\right)} & 0 & 0\\\\0 & 0 & 1 & 0\\\\0 & 0 & 0 & 1\\end{matrix}\\right]$"
          },
          "metadata": {},
          "execution_count": 89
        }
      ]
    },
    {
      "cell_type": "code",
      "source": [
        "display(T[2])#Y ya la matriz final que sería 3 con respecto a 2"
      ],
      "metadata": {
        "colab": {
          "base_uri": "https://localhost:8080/",
          "height": 99
        },
        "id": "gxeW3X7vGFcI",
        "outputId": "75962709-6db1-4306-d742-5bf5e5a5f69f"
      },
      "execution_count": null,
      "outputs": [
        {
          "output_type": "display_data",
          "data": {
            "text/plain": [
              "Matrix([\n",
              "[1,  0, 0,   0],\n",
              "[0,  0, 1, q_3],\n",
              "[0, -1, 0,   0],\n",
              "[0,  0, 0,   1]])"
            ],
            "text/latex": "$\\displaystyle \\left[\\begin{matrix}1 & 0 & 0 & 0\\\\0 & 0 & 1 & q_{3}\\\\0 & -1 & 0 & 0\\\\0 & 0 & 0 & 1\\end{matrix}\\right]$"
          },
          "metadata": {}
        }
      ]
    },
    {
      "cell_type": "markdown",
      "source": [
        "##No usado"
      ],
      "metadata": {
        "id": "OX7LzZ-tFdzb"
      }
    },
    {
      "cell_type": "code",
      "source": [
        "T02= T[0]*T[1]\n",
        "display(T02)"
      ],
      "metadata": {
        "colab": {
          "base_uri": "https://localhost:8080/",
          "height": 98
        },
        "id": "A3BZanioBWNS",
        "outputId": "f48e4089-3541-45eb-e369-548815e82a9d"
      },
      "execution_count": null,
      "outputs": [
        {
          "output_type": "display_data",
          "data": {
            "text/plain": [
              "Matrix([\n",
              "[cos(q_1)*cos(q_2), -sin(q_2)*cos(q_1),  sin(q_1),   0],\n",
              "[sin(q_1)*cos(q_2), -sin(q_1)*sin(q_2), -cos(q_1),   0],\n",
              "[         sin(q_2),           cos(q_2),         0, l_1],\n",
              "[                0,                  0,         0,   1]])"
            ],
            "text/latex": "$\\displaystyle \\left[\\begin{matrix}\\cos{\\left(q_{1} \\right)} \\cos{\\left(q_{2} \\right)} & - \\sin{\\left(q_{2} \\right)} \\cos{\\left(q_{1} \\right)} & \\sin{\\left(q_{1} \\right)} & 0\\\\\\sin{\\left(q_{1} \\right)} \\cos{\\left(q_{2} \\right)} & - \\sin{\\left(q_{1} \\right)} \\sin{\\left(q_{2} \\right)} & - \\cos{\\left(q_{1} \\right)} & 0\\\\\\sin{\\left(q_{2} \\right)} & \\cos{\\left(q_{2} \\right)} & 0 & l_{1}\\\\0 & 0 & 0 & 1\\end{matrix}\\right]$"
          },
          "metadata": {}
        }
      ]
    },
    {
      "cell_type": "code",
      "source": [
        "T[2].inv()"
      ],
      "metadata": {
        "colab": {
          "base_uri": "https://localhost:8080/",
          "height": 98
        },
        "id": "JmvrCQooEz3r",
        "outputId": "0c478613-6428-478e-84e5-b53952b6b04a"
      },
      "execution_count": null,
      "outputs": [
        {
          "output_type": "execute_result",
          "data": {
            "text/plain": [
              "Matrix([\n",
              "[1, 0,  0,    0],\n",
              "[0, 0, -1,    0],\n",
              "[0, 1,  0, -q_3],\n",
              "[0, 0,  0,    1]])"
            ],
            "text/latex": "$\\displaystyle \\left[\\begin{matrix}1 & 0 & 0 & 0\\\\0 & 0 & -1 & 0\\\\0 & 1 & 0 & - q_{3}\\\\0 & 0 & 0 & 1\\end{matrix}\\right]$"
          },
          "metadata": {},
          "execution_count": 19
        }
      ]
    }
  ]
}